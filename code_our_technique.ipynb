{
  "cells": [
    {
      "cell_type": "code",
      "execution_count": 1,
      "metadata": {
        "colab": {
          "base_uri": "https://localhost:8080/"
        },
        "id": "UQBb8osRBXVF",
        "outputId": "38fe9483-aa0f-442f-d839-59af85cc5c2c"
      },
      "outputs": [
        {
          "name": "stdout",
          "output_type": "stream",
          "text": [
            "Mounted at /content/drive\n"
          ]
        }
      ],
      "source": [
        "from google.colab import drive\n",
        "drive.mount(\"/content/drive\")"
      ]
    },
    {
      "cell_type": "code",
      "execution_count": 2,
      "metadata": {
        "colab": {
          "base_uri": "https://localhost:8080/"
        },
        "id": "nn2mRlb_BiGw",
        "outputId": "77ae8c57-6d76-4938-8291-3508c0e5014e"
      },
      "outputs": [
        {
          "name": "stdout",
          "output_type": "stream",
          "text": [
            "Collecting wfdb\n",
            "  Downloading wfdb-4.1.2-py3-none-any.whl (159 kB)\n",
            "\u001b[?25l     \u001b[90m━━━━━━━━━━━━━━━━━━━━━━━━━━━━━━━━━━━━━━━━\u001b[0m \u001b[32m0.0/160.0 kB\u001b[0m \u001b[31m?\u001b[0m eta \u001b[36m-:--:--\u001b[0m\r\u001b[2K     \u001b[91m━━━━━━━━━━━━━━━━━━━━━━━\u001b[0m\u001b[90m╺\u001b[0m\u001b[90m━━━━━━━━━━━━━━━━\u001b[0m \u001b[32m92.2/160.0 kB\u001b[0m \u001b[31m2.4 MB/s\u001b[0m eta \u001b[36m0:00:01\u001b[0m\r\u001b[2K     \u001b[90m━━━━━━━━━━━━━━━━━━━━━━━━━━━━━━━━━━━━━━━━\u001b[0m \u001b[32m160.0/160.0 kB\u001b[0m \u001b[31m3.0 MB/s\u001b[0m eta \u001b[36m0:00:00\u001b[0m\n",
            "\u001b[?25hRequirement already satisfied: SoundFile>=0.10.0 in /usr/local/lib/python3.10/dist-packages (from wfdb) (0.12.1)\n",
            "Requirement already satisfied: matplotlib>=3.2.2 in /usr/local/lib/python3.10/dist-packages (from wfdb) (3.7.1)\n",
            "Requirement already satisfied: numpy>=1.10.1 in /usr/local/lib/python3.10/dist-packages (from wfdb) (1.25.2)\n",
            "Requirement already satisfied: pandas>=1.3.0 in /usr/local/lib/python3.10/dist-packages (from wfdb) (2.0.3)\n",
            "Requirement already satisfied: requests>=2.8.1 in /usr/local/lib/python3.10/dist-packages (from wfdb) (2.31.0)\n",
            "Requirement already satisfied: scipy>=1.0.0 in /usr/local/lib/python3.10/dist-packages (from wfdb) (1.11.4)\n",
            "Requirement already satisfied: contourpy>=1.0.1 in /usr/local/lib/python3.10/dist-packages (from matplotlib>=3.2.2->wfdb) (1.2.1)\n",
            "Requirement already satisfied: cycler>=0.10 in /usr/local/lib/python3.10/dist-packages (from matplotlib>=3.2.2->wfdb) (0.12.1)\n",
            "Requirement already satisfied: fonttools>=4.22.0 in /usr/local/lib/python3.10/dist-packages (from matplotlib>=3.2.2->wfdb) (4.51.0)\n",
            "Requirement already satisfied: kiwisolver>=1.0.1 in /usr/local/lib/python3.10/dist-packages (from matplotlib>=3.2.2->wfdb) (1.4.5)\n",
            "Requirement already satisfied: packaging>=20.0 in /usr/local/lib/python3.10/dist-packages (from matplotlib>=3.2.2->wfdb) (24.0)\n",
            "Requirement already satisfied: pillow>=6.2.0 in /usr/local/lib/python3.10/dist-packages (from matplotlib>=3.2.2->wfdb) (9.4.0)\n",
            "Requirement already satisfied: pyparsing>=2.3.1 in /usr/local/lib/python3.10/dist-packages (from matplotlib>=3.2.2->wfdb) (3.1.2)\n",
            "Requirement already satisfied: python-dateutil>=2.7 in /usr/local/lib/python3.10/dist-packages (from matplotlib>=3.2.2->wfdb) (2.8.2)\n",
            "Requirement already satisfied: pytz>=2020.1 in /usr/local/lib/python3.10/dist-packages (from pandas>=1.3.0->wfdb) (2023.4)\n",
            "Requirement already satisfied: tzdata>=2022.1 in /usr/local/lib/python3.10/dist-packages (from pandas>=1.3.0->wfdb) (2024.1)\n",
            "Requirement already satisfied: charset-normalizer<4,>=2 in /usr/local/lib/python3.10/dist-packages (from requests>=2.8.1->wfdb) (3.3.2)\n",
            "Requirement already satisfied: idna<4,>=2.5 in /usr/local/lib/python3.10/dist-packages (from requests>=2.8.1->wfdb) (3.7)\n",
            "Requirement already satisfied: urllib3<3,>=1.21.1 in /usr/local/lib/python3.10/dist-packages (from requests>=2.8.1->wfdb) (2.0.7)\n",
            "Requirement already satisfied: certifi>=2017.4.17 in /usr/local/lib/python3.10/dist-packages (from requests>=2.8.1->wfdb) (2024.2.2)\n",
            "Requirement already satisfied: cffi>=1.0 in /usr/local/lib/python3.10/dist-packages (from SoundFile>=0.10.0->wfdb) (1.16.0)\n",
            "Requirement already satisfied: pycparser in /usr/local/lib/python3.10/dist-packages (from cffi>=1.0->SoundFile>=0.10.0->wfdb) (2.22)\n",
            "Requirement already satisfied: six>=1.5 in /usr/local/lib/python3.10/dist-packages (from python-dateutil>=2.7->matplotlib>=3.2.2->wfdb) (1.16.0)\n",
            "Installing collected packages: wfdb\n",
            "Successfully installed wfdb-4.1.2\n"
          ]
        }
      ],
      "source": [
        "!pip install wfdb"
      ]
    },
    {
      "cell_type": "code",
      "execution_count": 3,
      "metadata": {
        "id": "kHyDQAQRBTIi"
      },
      "outputs": [],
      "source": [
        "import pandas as pd\n",
        "from sklearn.metrics import f1_score\n",
        "import numpy as np\n",
        "import matplotlib.pyplot as plt\n",
        "import wfdb\n",
        "import ast\n",
        "import torch\n",
        "import torch.nn as nn\n",
        "import torch.nn.functional as F\n",
        "from torch.utils.data import DataLoader, TensorDataset\n",
        "import torch.optim as optim\n",
        "from tqdm import tqdm"
      ]
    },
    {
      "cell_type": "markdown",
      "metadata": {
        "id": "Z2U6TukdBTIn"
      },
      "source": [
        "### Hyperparameters"
      ]
    },
    {
      "cell_type": "code",
      "execution_count": 4,
      "metadata": {
        "id": "Lf1tig4TBTIq"
      },
      "outputs": [],
      "source": [
        "# Model related\n",
        "kernel_size_1d_conv=128\n",
        "num_layers_bi_gru=1\n",
        "hidden_size_bi_gru=8,\n",
        "kernel_size_max_pool=12\n",
        "stride_max_pool=None\n",
        "kernel_width_2d_conv=4\n",
        "kernel_height_2d_conv=64\n",
        "dim_feedforward_transformer_encoder=64\n",
        "num_layers_transformer_encoder=1\n",
        "hidden_size_classifier_head=256\n",
        "\n",
        "# Training related\n",
        "num_epochs = 50\n",
        "learning_rate = 0.001\n",
        "encoder_learning_rate = 1\n",
        "batch_size = 64"
      ]
    },
    {
      "cell_type": "markdown",
      "metadata": {
        "id": "q2eEp5QBBTIr"
      },
      "source": [
        "# Data preprocessing"
      ]
    },
    {
      "cell_type": "code",
      "execution_count": null,
      "metadata": {
        "id": "KQ0-VFikBTIs"
      },
      "outputs": [],
      "source": [
        "def load_raw_data(df, sampling_rate, path):\n",
        "    if sampling_rate == 100:\n",
        "        data = [wfdb.rdsamp(path+f) for f in df.filename_lr]\n",
        "    else:\n",
        "        data = [wfdb.rdsamp(path+f) for f in df.filename_hr]\n",
        "    data = np.array([signal for signal, meta in data])\n",
        "    return data\n",
        "\n",
        "path = \"/content/drive/MyDrive/PhysioNet_Challenge_2024/\"\n",
        "sampling_rate=100\n",
        "\n",
        "# load and convert annotation data\n",
        "Y = pd.read_csv(path+'ptbxl_database.csv', index_col='ecg_id', nrows=10000)\n",
        "Y.scp_codes = Y.scp_codes.apply(lambda x: ast.literal_eval(x))\n",
        "\n",
        "# Load raw signal data\n",
        "X = load_raw_data(Y, sampling_rate, path)"
      ]
    },
    {
      "cell_type": "code",
      "execution_count": null,
      "metadata": {
        "id": "t486KdK-BTIs"
      },
      "outputs": [],
      "source": [
        "# Load scp_statements.csv for diagnostic aggregation\n",
        "agg_df = pd.read_csv(path+'scp_statements.csv', index_col=0)\n",
        "agg_df = agg_df[agg_df.diagnostic == 1]\n",
        "\n",
        "def aggregate_diagnostic(y_dic):\n",
        "    tmp = []\n",
        "    for key in y_dic.keys():\n",
        "        if key in agg_df.index:\n",
        "            tmp.append(agg_df.loc[key].diagnostic_class)\n",
        "    return list(set(tmp))\n",
        "\n",
        "# Apply diagnostic superclass\n",
        "Y['diagnostic_superclass'] = Y.scp_codes.apply(aggregate_diagnostic)"
      ]
    },
    {
      "cell_type": "code",
      "execution_count": null,
      "metadata": {
        "id": "SDb_8WK2BTIt"
      },
      "outputs": [],
      "source": [
        "# Split data into train and test\n",
        "test_fold = 10\n",
        "# Train\n",
        "X_train = X[np.where(Y.strat_fold != test_fold)]\n",
        "y_train = Y[(Y.strat_fold != test_fold)].diagnostic_superclass\n",
        "# Test\n",
        "X_test = X[np.where(Y.strat_fold == test_fold)]\n",
        "y_test = Y[Y.strat_fold == test_fold].diagnostic_superclass"
      ]
    },
    {
      "cell_type": "code",
      "execution_count": null,
      "metadata": {
        "id": "q5hMABrmBTIt",
        "outputId": "a578f440-bc9b-4808-9231-acc50f71737b"
      },
      "outputs": [
        {
          "data": {
            "text/plain": [
              "ecg_id\n",
              "1         [NORM]\n",
              "2         [NORM]\n",
              "3         [NORM]\n",
              "4         [NORM]\n",
              "5         [NORM]\n",
              "6         [NORM]\n",
              "7         [NORM]\n",
              "8           [MI]\n",
              "10        [NORM]\n",
              "11        [NORM]\n",
              "12        [NORM]\n",
              "13        [NORM]\n",
              "14        [NORM]\n",
              "15        [NORM]\n",
              "16        [NORM]\n",
              "17            []\n",
              "18            []\n",
              "19        [NORM]\n",
              "20            []\n",
              "21        [NORM]\n",
              "22        [STTC]\n",
              "23            []\n",
              "24        [NORM]\n",
              "25        [NORM]\n",
              "26        [STTC]\n",
              "27        [NORM]\n",
              "28        [STTC]\n",
              "29        [NORM]\n",
              "30         [HYP]\n",
              "31        [NORM]\n",
              "32          [CD]\n",
              "33        [NORM]\n",
              "34            []\n",
              "35        [NORM]\n",
              "36        [NORM]\n",
              "37        [NORM]\n",
              "39    [MI, STTC]\n",
              "41          [CD]\n",
              "42        [NORM]\n",
              "43        [NORM]\n",
              "Name: diagnostic_superclass, dtype: object"
            ]
          },
          "execution_count": 7,
          "metadata": {},
          "output_type": "execute_result"
        }
      ],
      "source": [
        "y_train[0:40]"
      ]
    },
    {
      "cell_type": "code",
      "execution_count": null,
      "metadata": {
        "id": "Mz_pR-APBTIu"
      },
      "outputs": [],
      "source": [
        "from sklearn.preprocessing import MultiLabelBinarizer\n",
        "\n",
        "# Initialize MultiLabelBinarizer\n",
        "mlb = MultiLabelBinarizer()\n",
        "\n",
        "# Fit and transform y_train\n",
        "y_train_encoded = mlb.fit_transform(y_train)\n",
        "\n",
        "# Transform y_test\n",
        "y_test_encoded = mlb.transform(y_test)\n"
      ]
    },
    {
      "cell_type": "code",
      "execution_count": null,
      "metadata": {
        "id": "ssUyrmQKBTIv",
        "outputId": "10ee8661-3400-4752-d4ec-0744d1805a04"
      },
      "outputs": [
        {
          "data": {
            "text/plain": [
              "array([[0, 0, 0, 1, 0],\n",
              "       [0, 0, 0, 1, 0],\n",
              "       [0, 0, 0, 1, 0],\n",
              "       [0, 0, 0, 1, 0],\n",
              "       [0, 0, 0, 1, 0],\n",
              "       [0, 0, 0, 1, 0],\n",
              "       [0, 0, 0, 1, 0],\n",
              "       [0, 0, 1, 0, 0],\n",
              "       [0, 0, 0, 1, 0],\n",
              "       [0, 0, 0, 1, 0],\n",
              "       [0, 0, 0, 1, 0],\n",
              "       [0, 0, 0, 1, 0],\n",
              "       [0, 0, 0, 1, 0],\n",
              "       [0, 0, 0, 1, 0],\n",
              "       [0, 0, 0, 1, 0],\n",
              "       [0, 0, 0, 0, 0],\n",
              "       [0, 0, 0, 0, 0],\n",
              "       [0, 0, 0, 1, 0],\n",
              "       [0, 0, 0, 0, 0],\n",
              "       [0, 0, 0, 1, 0],\n",
              "       [0, 0, 0, 0, 1],\n",
              "       [0, 0, 0, 0, 0],\n",
              "       [0, 0, 0, 1, 0],\n",
              "       [0, 0, 0, 1, 0],\n",
              "       [0, 0, 0, 0, 1],\n",
              "       [0, 0, 0, 1, 0],\n",
              "       [0, 0, 0, 0, 1],\n",
              "       [0, 0, 0, 1, 0],\n",
              "       [0, 1, 0, 0, 0],\n",
              "       [0, 0, 0, 1, 0],\n",
              "       [1, 0, 0, 0, 0],\n",
              "       [0, 0, 0, 1, 0],\n",
              "       [0, 0, 0, 0, 0],\n",
              "       [0, 0, 0, 1, 0],\n",
              "       [0, 0, 0, 1, 0],\n",
              "       [0, 0, 0, 1, 0],\n",
              "       [0, 0, 1, 0, 1],\n",
              "       [1, 0, 0, 0, 0],\n",
              "       [0, 0, 0, 1, 0],\n",
              "       [0, 0, 0, 1, 0]])"
            ]
          },
          "execution_count": 9,
          "metadata": {},
          "output_type": "execute_result"
        }
      ],
      "source": [
        "y_train_encoded[0:40]"
      ]
    },
    {
      "cell_type": "code",
      "execution_count": null,
      "metadata": {
        "id": "TE2Sxv_CBTIw"
      },
      "outputs": [],
      "source": [
        "from sklearn.preprocessing import StandardScaler\n",
        "\n",
        "# Reshape X_train and X_test to 2D arrays\n",
        "X_train_2d = X_train.reshape(X_train.shape[0], -1)\n",
        "X_test_2d = X_test.reshape(X_test.shape[0], -1)\n",
        "\n",
        "# Initialize the StandardScaler\n",
        "scaler = StandardScaler()\n",
        "\n",
        "# Fit the scaler on the training data and transform X_train\n",
        "X_train_normalized = scaler.fit_transform(X_train_2d)\n",
        "\n",
        "# Transform X_test using the scaler fitted on the training data\n",
        "X_test_normalized = scaler.transform(X_test_2d)\n",
        "\n",
        "# Reshape the normalized data back to 3D arrays\n",
        "X_train_normalized = X_train_normalized.reshape(X_train.shape)\n",
        "X_test_normalized = X_test_normalized.reshape(X_test.shape)\n"
      ]
    },
    {
      "cell_type": "code",
      "execution_count": null,
      "metadata": {
        "id": "OhLTvSPxBTIx",
        "outputId": "34fd1f41-a363-43dd-ee0a-c2c2cb777671"
      },
      "outputs": [
        {
          "data": {
            "text/plain": [
              "array([[-0.119, -0.055,  0.064, ..., -0.026, -0.039, -0.079],\n",
              "       [-0.116, -0.051,  0.065, ..., -0.031, -0.034, -0.074],\n",
              "       [-0.12 , -0.044,  0.076, ..., -0.028, -0.029, -0.069],\n",
              "       ...,\n",
              "       [ 0.069,  0.   , -0.069, ...,  0.024, -0.041, -0.058],\n",
              "       [ 0.086,  0.004, -0.081, ...,  0.242, -0.046, -0.098],\n",
              "       [ 0.022, -0.031, -0.054, ...,  0.143, -0.035, -0.12 ]])"
            ]
          },
          "execution_count": 11,
          "metadata": {},
          "output_type": "execute_result"
        }
      ],
      "source": [
        "X_train[0]"
      ]
    },
    {
      "cell_type": "code",
      "execution_count": null,
      "metadata": {
        "id": "pof4IebkBTIx",
        "outputId": "d1706fdb-8e68-41c0-d9e6-6e438523b76b"
      },
      "outputs": [
        {
          "data": {
            "text/plain": [
              "array([[-6.53022334e-01, -2.45130103e-01,  3.26801707e-01, ...,\n",
              "        -8.66502876e-02, -1.28696181e-01, -2.24327204e-01],\n",
              "       [-6.50564994e-01, -2.29146690e-01,  3.31645355e-01, ...,\n",
              "        -9.92170267e-02, -1.17128384e-01, -2.14314131e-01],\n",
              "       [-6.72105063e-01, -1.96886212e-01,  3.80242967e-01, ...,\n",
              "        -9.57838759e-02, -1.05638339e-01, -2.04324365e-01],\n",
              "       ...,\n",
              "       [ 3.25661984e-01,  2.00683636e-04, -3.24347281e-01, ...,\n",
              "         4.54507267e-02, -1.66866623e-01, -2.30235595e-01],\n",
              "       [ 3.81822295e-01,  8.27232106e-03, -3.82599726e-01, ...,\n",
              "         6.66994180e-01, -1.93501512e-01, -3.81624950e-01],\n",
              "       [ 7.55979852e-02, -1.90001946e-01, -2.69868692e-01, ...,\n",
              "         3.75413613e-01, -1.59330544e-01, -4.54513290e-01]])"
            ]
          },
          "execution_count": 12,
          "metadata": {},
          "output_type": "execute_result"
        }
      ],
      "source": [
        "X_train_normalized[0]"
      ]
    },
    {
      "cell_type": "markdown",
      "metadata": {
        "id": "vru12clOBTIy"
      },
      "source": [
        "# Shape of training data\n",
        "```number of examples x (sampling frequency*10 seconds) x number of channels/leads```"
      ]
    },
    {
      "cell_type": "code",
      "execution_count": null,
      "metadata": {
        "id": "o3HGYcLZBTIy",
        "outputId": "aaa2aa7b-ac89-4b27-92f9-8a59a8589061"
      },
      "outputs": [
        {
          "data": {
            "text/plain": [
              "((8874, 1000, 12), (8874, 5))"
            ]
          },
          "execution_count": 13,
          "metadata": {},
          "output_type": "execute_result"
        }
      ],
      "source": [
        "X_train_normalized.shape, y_train_encoded.shape"
      ]
    },
    {
      "cell_type": "markdown",
      "metadata": {
        "id": "SQhpajR5BTIz"
      },
      "source": [
        "# 3-D to 2-D conversion\n",
        "``` (Research the best way to do it!)```"
      ]
    },
    {
      "cell_type": "code",
      "execution_count": null,
      "metadata": {
        "id": "CSuAdEBBBTIz"
      },
      "outputs": [],
      "source": [
        "# X_train_normalized = X_train_normalized.reshape(X_train_normalized.shape[0], -1)\n",
        "# X_test_normalized = X_test_normalized.reshape(X_test_normalized.shape[0], -1)"
      ]
    },
    {
      "cell_type": "code",
      "execution_count": null,
      "metadata": {
        "id": "DRwVPMkoBTI0"
      },
      "outputs": [],
      "source": [
        "X_train_torch = torch.tensor(X_train_normalized).float()\n",
        "X_test_torch = torch.tensor(X_test_normalized).float()\n",
        "y_train_torch = torch.tensor(y_train_encoded).float()\n",
        "y_test_torch = torch.tensor(y_test_encoded).float()"
      ]
    },
    {
      "cell_type": "code",
      "execution_count": null,
      "metadata": {
        "id": "3588gkjYBTI0",
        "outputId": "0a807e00-3527-4e83-c64b-c0ce47bc6ce1"
      },
      "outputs": [
        {
          "name": "stdout",
          "output_type": "stream",
          "text": [
            "torch.float32\n"
          ]
        }
      ],
      "source": [
        "print(X_train_torch.dtype)"
      ]
    },
    {
      "cell_type": "code",
      "execution_count": null,
      "metadata": {
        "id": "LZ-i1bPiBTI0",
        "outputId": "16b29c3d-a03d-4796-f27b-5bd9148b5dcc"
      },
      "outputs": [
        {
          "name": "stdout",
          "output_type": "stream",
          "text": [
            "torch.Size([8874, 1000, 12])\n",
            "torch.Size([1126, 1000, 12])\n"
          ]
        }
      ],
      "source": [
        "print(X_train_torch.shape)\n",
        "print(X_test_torch.shape)"
      ]
    },
    {
      "cell_type": "code",
      "execution_count": null,
      "metadata": {
        "id": "TNwm94_xBTI0"
      },
      "outputs": [],
      "source": [
        "X_train_torch = X_train_torch.permute(0, 2, 1)  # Swap dimensions to (batch_size, in_channels, input_length)\n",
        "X_test_torch = X_test_torch.permute(0, 2, 1)"
      ]
    },
    {
      "cell_type": "code",
      "execution_count": null,
      "metadata": {
        "id": "5JX9vNyoBTI1",
        "outputId": "09ff3fde-061c-4fb7-f6eb-03bad0a90dfa"
      },
      "outputs": [
        {
          "name": "stdout",
          "output_type": "stream",
          "text": [
            "torch.Size([8874, 12, 1000])\n",
            "torch.Size([1126, 12, 1000])\n"
          ]
        }
      ],
      "source": [
        "print(X_train_torch.shape)\n",
        "print(X_test_torch.shape)"
      ]
    },
    {
      "cell_type": "markdown",
      "metadata": {
        "id": "D1L49N1yBTI1"
      },
      "source": [
        "![image.png](attachment:image.png)"
      ]
    },
    {
      "cell_type": "markdown",
      "metadata": {
        "id": "Sxbi8f_cBTI1"
      },
      "source": [
        "### Test input"
      ]
    },
    {
      "cell_type": "code",
      "execution_count": null,
      "metadata": {
        "id": "9Zlnq6TPBTI2",
        "outputId": "037a10d6-da43-4259-ac5b-f6c5683f48c4"
      },
      "outputs": [
        {
          "name": "stdout",
          "output_type": "stream",
          "text": [
            "torch.Size([5, 12, 1000])\n"
          ]
        },
        {
          "data": {
            "text/plain": [
              "torch.Size([8874, 1, 1000])"
            ]
          },
          "execution_count": 20,
          "metadata": {},
          "output_type": "execute_result"
        }
      ],
      "source": [
        "test_inp = X_train_torch[0:5]\n",
        "test_out = y_train_torch[0:5]\n",
        "print(test_inp.shape)\n",
        "X_train_torch[:, 0:1, :].shape  # one channel only"
      ]
    },
    {
      "cell_type": "markdown",
      "metadata": {
        "id": "Euy47dYDBTI2"
      },
      "source": [
        "### 1DCNN block"
      ]
    },
    {
      "cell_type": "markdown",
      "metadata": {
        "id": "cJu6NsRyBTI2"
      },
      "source": [
        "Apply conv 1d to each lead individually"
      ]
    },
    {
      "cell_type": "code",
      "execution_count": null,
      "metadata": {
        "id": "WiI7aG6uBTI3",
        "outputId": "6479b46d-6806-4209-eca1-28b9d89e8f64"
      },
      "outputs": [
        {
          "name": "stdout",
          "output_type": "stream",
          "text": [
            "torch.Size([8874, 3, 1000])\n"
          ]
        }
      ],
      "source": [
        "# Define the Conv1d layer\n",
        "conv1D = nn.Conv1d(in_channels=1, out_channels=1, kernel_size=11, padding=5)\n",
        "\n",
        "# Perform Conv1d operation\n",
        "output1 = conv1D(X_train_torch[:, 1, :].unsqueeze(1))\n",
        "output2 = conv1D(X_train_torch[:, 1, :].unsqueeze(1))\n",
        "output3 = conv1D(X_train_torch[:, 1, :].unsqueeze(1))\n",
        "\n",
        "output = torch.cat((output1, output2), dim=1)\n",
        "output = torch.cat((output, output3), dim=1)\n",
        "# Check the output shape\n",
        "print(output.shape)"
      ]
    },
    {
      "cell_type": "code",
      "execution_count": null,
      "metadata": {
        "id": "MoJXbu1VBTI3",
        "outputId": "6d756951-b442-4ce1-b551-1c30dcbce530"
      },
      "outputs": [
        {
          "name": "stdout",
          "output_type": "stream",
          "text": [
            "torch.Size([5, 12, 1000])\n",
            "torch.Size([5, 12, 619])\n"
          ]
        }
      ],
      "source": [
        "class CNN1D(nn.Module):\n",
        "    def __init__(self, kernel_size=16):\n",
        "        super().__init__()\n",
        "        self.conv_layer_1 = nn.Conv1d(1, 1, kernel_size=kernel_size)\n",
        "        self.conv_layer_2 = nn.Conv1d(1, 1, kernel_size=kernel_size)\n",
        "        self.conv_layer_3 = nn.Conv1d(1, 1, kernel_size=kernel_size)\n",
        "\n",
        "    def forward(self, x):\n",
        "        \"\"\"\n",
        "        x: [batch_size, in_channels, length]\n",
        "        output_tensor: [batch_size, in_channels, updated_length]\n",
        "        \"\"\"\n",
        "        # print(x.shape)\n",
        "        outputs = []\n",
        "        channels = x.shape[1]\n",
        "        for i in range(channels):\n",
        "            input_row = x[:, i:i+1, :]  # (batch_size, channels=1, length=num_columns)\n",
        "            output_tensor = self.conv_layer_1(input_row)\n",
        "            output_tensor = self.conv_layer_2(output_tensor)\n",
        "            output_tensor = self.conv_layer_3(output_tensor)\n",
        "            # print(output_tensor.shape) # (batch_size, channels=1, length=updated_num_columns)\n",
        "            outputs.append(output_tensor)\n",
        "\n",
        "        output_tensor = torch.cat(outputs, dim=1)\n",
        "        # print(output_tensor.shape)\n",
        "        return output_tensor\n",
        "\n",
        "# Define the Conv1D layer\n",
        "conv1d_layer = CNN1D(kernel_size=128)\n",
        "output_conv1d = conv1d_layer(test_inp)\n",
        "\n",
        "print(test_inp.shape)\n",
        "# Print output shape\n",
        "print(output_conv1d.shape)"
      ]
    },
    {
      "cell_type": "markdown",
      "metadata": {
        "id": "RXeOPJ37BTI4"
      },
      "source": [
        "### Bi-GRU to capture temporal features"
      ]
    },
    {
      "cell_type": "markdown",
      "metadata": {
        "id": "urJZlsjRBTI4"
      },
      "source": [
        "![image.png](attachment:image.png)"
      ]
    },
    {
      "cell_type": "code",
      "execution_count": null,
      "metadata": {
        "id": "o_7VqVxYBTI5",
        "outputId": "5e91381e-d001-4fc5-b9fd-99eb73e786eb"
      },
      "outputs": [
        {
          "name": "stdout",
          "output_type": "stream",
          "text": [
            "Input shape: torch.Size([5, 12, 619])\n",
            "Output shape: torch.Size([5, 12, 9904])\n"
          ]
        }
      ],
      "source": [
        "class BiGRU(nn.Module):\n",
        "    def __init__(self, features_expected=1, hidden_size=64, num_layers=1, bidirectional=True):\n",
        "        super().__init__()\n",
        "        self.num_layers = num_layers\n",
        "        self.bidirectional = bidirectional\n",
        "        self.hidden_size = hidden_size\n",
        "        self.gru = nn.GRU(features_expected, hidden_size, num_layers=num_layers, bidirectional=bidirectional)\n",
        "\n",
        "    def forward(self, x):\n",
        "        \"\"\"\n",
        "        x: [batch_size, channels, length]\n",
        "        output_tensor: [batch_size, channels, updated_length]\n",
        "        \"\"\"\n",
        "        # Unpack the dimensions\n",
        "        batch_size, channels, length = x.size()\n",
        "        x = x.permute(2, 0, 1)  # [length, batch_size, channels]\n",
        "        # print(x.shape)\n",
        "\n",
        "        outputs = []\n",
        "        for i in range(channels):\n",
        "            input_lead = x[:, :, i]  # [length, batch_size]\n",
        "            input_lead = input_lead.unsqueeze(2)  # [sequence_length, batch_size, 1]\n",
        "            # print(input_lead.shape)\n",
        "\n",
        "            # Pass through the GRU layer\n",
        "            output_lead, _ = self.gru(input_lead) # [sequence_length, batch_size, 2*hidden_dim]\n",
        "            # print(output_lead.shape)\n",
        "            output_lead = output_lead.reshape(batch_size, 1, -1) # [batch_size, 1, sequence_length*2*hidden_dim]\n",
        "            # print(output_lead.shape)\n",
        "            outputs.append(output_lead)\n",
        "\n",
        "        output_tensor = torch.cat(outputs, dim=1)  # [batch_size, channels, hidden_size * num_directions]\n",
        "        return output_tensor\n",
        "\n",
        "# Define the BiGRU layer\n",
        "bigru_layer = BiGRU(features_expected=1, hidden_size=8, num_layers=2, bidirectional=True)\n",
        "output_bigru = bigru_layer(output_conv1d)\n",
        "\n",
        "# Print input and output shapes\n",
        "print(\"Input shape:\", output_conv1d.shape)\n",
        "print(\"Output shape:\", output_bigru.shape)\n"
      ]
    },
    {
      "cell_type": "markdown",
      "metadata": {
        "id": "TmUqpVUdBTI6"
      },
      "source": [
        "### Max pool block"
      ]
    },
    {
      "cell_type": "code",
      "execution_count": null,
      "metadata": {
        "id": "g8qe5LXyBTI6",
        "outputId": "f83ce4fd-a3cd-4575-8007-9defeec7c334"
      },
      "outputs": [
        {
          "name": "stdout",
          "output_type": "stream",
          "text": [
            "torch.Size([5, 12, 9904])\n"
          ]
        },
        {
          "data": {
            "text/plain": [
              "torch.Size([5, 12, 412])"
            ]
          },
          "execution_count": 24,
          "metadata": {},
          "output_type": "execute_result"
        }
      ],
      "source": [
        "layer = nn.MaxPool1d(kernel_size=24)\n",
        "print(output_bigru.shape)\n",
        "layer(output_bigru).shape"
      ]
    },
    {
      "cell_type": "code",
      "execution_count": null,
      "metadata": {
        "id": "0vRSv9MeBTI7",
        "outputId": "8a3acdb4-0c94-4273-fa50-44a7c7bd358d"
      },
      "outputs": [
        {
          "name": "stdout",
          "output_type": "stream",
          "text": [
            "Input shape (bigru output): torch.Size([5, 12, 9904])\n",
            "Output shape: torch.Size([5, 12, 619])\n"
          ]
        }
      ],
      "source": [
        "class MaxPool1DLast(nn.Module):\n",
        "    def __init__(self, kernel_size=8, stride=None):\n",
        "        super().__init__()\n",
        "        self.max_pool = nn.MaxPool1d(kernel_size=kernel_size, stride=stride)\n",
        "\n",
        "    def forward(self, x):\n",
        "        \"\"\"\n",
        "        x: [batch_size, channels, length]\n",
        "        pooled_output: [batch_size, channels, reduced_length]\n",
        "        \"\"\"\n",
        "        # Apply max pooling along the last dimension (length)\n",
        "        pooled_output = self.max_pool(x)\n",
        "\n",
        "        return pooled_output\n",
        "\n",
        "\n",
        "# Test the class\n",
        "windowed_max_pool_layer = MaxPool1DLast(kernel_size=16, stride=None)\n",
        "output_tensor_max_pool = windowed_max_pool_layer(output_bigru)\n",
        "\n",
        "# Print input and output shapes\n",
        "print(\"Input shape (bigru output):\", output_bigru.shape)\n",
        "print(\"Output shape:\", output_tensor_max_pool.shape)\n"
      ]
    },
    {
      "cell_type": "markdown",
      "metadata": {
        "id": "P3LxjK7yBTI8"
      },
      "source": [
        "### 2DCNN Block"
      ]
    },
    {
      "cell_type": "code",
      "execution_count": null,
      "metadata": {
        "id": "MdrIYYH8BTI8"
      },
      "outputs": [],
      "source": [
        "import math"
      ]
    },
    {
      "cell_type": "code",
      "execution_count": null,
      "metadata": {
        "id": "Kmp4cJMSBTI8",
        "outputId": "bfcb8e91-7e95-403b-9f76-57943fc37b0e"
      },
      "outputs": [
        {
          "name": "stdout",
          "output_type": "stream",
          "text": [
            "torch.Size([5, 1, 12, 1000])\n"
          ]
        }
      ],
      "source": [
        "print(test_inp.unsqueeze(1).shape)"
      ]
    },
    {
      "cell_type": "code",
      "execution_count": null,
      "metadata": {
        "id": "GiNhw7nPBTI8",
        "outputId": "e8281e91-2818-4718-b874-a2a8284df977"
      },
      "outputs": [
        {
          "name": "stdout",
          "output_type": "stream",
          "text": [
            "torch.Size([5, 1, 13, 909])\n",
            "torch.Size([5, 12, 909])\n"
          ]
        }
      ],
      "source": [
        "k = 8\n",
        "conv2d = nn.Conv2d(in_channels=1, out_channels=1, kernel_size=(k,100), padding=math.ceil((k-1)/2))\n",
        "\n",
        "output = conv2d(test_inp.unsqueeze(1))\n",
        "\n",
        "print(output.shape)\n",
        "\n",
        "output = output.squeeze()[:, 0:12, :]\n",
        "\n",
        "print(output.shape)"
      ]
    },
    {
      "cell_type": "code",
      "execution_count": null,
      "metadata": {
        "id": "XudXwx3OBTJQ",
        "outputId": "e77eeb93-5e61-498e-9572-275b3d453c9b"
      },
      "outputs": [
        {
          "name": "stdout",
          "output_type": "stream",
          "text": [
            "input: torch.Size([5, 12, 619])\n",
            "shape of layer output: torch.Size([5, 12, 442])\n"
          ]
        }
      ],
      "source": [
        "class CNN2D(nn.Module):\n",
        "    def __init__(self, kernel_width=4, kernel_height=16):\n",
        "        super().__init__()\n",
        "        self.conv_layer_1 = nn.Conv2d(in_channels=1, out_channels=1, kernel_size=(kernel_width, kernel_height), padding=math.ceil((kernel_width-1)/2))\n",
        "        self.conv_layer_2 = nn.Conv2d(in_channels=1, out_channels=1, kernel_size=(kernel_width, kernel_height), padding=math.ceil((kernel_width-1)/2))\n",
        "        self.conv_layer_3 = nn.Conv2d(in_channels=1, out_channels=1, kernel_size=(kernel_width, kernel_height), padding=math.ceil((kernel_width-1)/2))\n",
        "\n",
        "    def forward(self, x):\n",
        "        \"\"\"\n",
        "        x: [batch_size, channels, num_cols]\n",
        "        output: [batch, channels, updated_cols]\n",
        "        \"\"\"\n",
        "        # Make the input suitable for 2d convolution, the 2d plane should correspont\n",
        "        # to channels x num_cols\n",
        "        x = x.unsqueeze(1)\n",
        "        # print(x.shape) # [batch_size, 1, channels, num_cols]\n",
        "\n",
        "        # Make forward pass\n",
        "        output = self.conv_layer_1(x)\n",
        "        output = output[:, :, 0:12, :]\n",
        "        # print(output.shape) # [batch_size, 1, 12, num_cols_updated]\n",
        "\n",
        "        output = self.conv_layer_2(output)\n",
        "        output = output[:, :, 0:12, :]\n",
        "        # print(output.shape) # [batch_size, 1, 12, num_cols_updated]\n",
        "\n",
        "        output = self.conv_layer_3(output)\n",
        "        output = output.squeeze(1)[:, 0:12, :]\n",
        "        # print(output.shape) # [batch_size, 12, num_cols_updated]\n",
        "\n",
        "        return output\n",
        "\n",
        "\n",
        "layer = CNN2D(kernel_width=4, kernel_height=64)\n",
        "output_2dcnn= layer(output_tensor_max_pool)\n",
        "\n",
        "print(\"input:\", output_tensor_max_pool.shape)\n",
        "print('shape of layer output:', output_2dcnn.shape)"
      ]
    },
    {
      "cell_type": "markdown",
      "metadata": {
        "id": "WOYrDtP9BTJR"
      },
      "source": [
        "### Transformer encoder block"
      ]
    },
    {
      "cell_type": "code",
      "execution_count": null,
      "metadata": {
        "id": "GzVd2AMdBTJS",
        "outputId": "03ff65c9-527c-414c-89dd-104cbc352c82"
      },
      "outputs": [
        {
          "data": {
            "text/plain": [
              "torch.Size([5, 12, 100])"
            ]
          },
          "execution_count": 30,
          "metadata": {},
          "output_type": "execute_result"
        }
      ],
      "source": [
        "e = nn.TransformerEncoderLayer(d_model=100, nhead=10, dim_feedforward=64)\n",
        "output = e(output_2dcnn[:, :, :100])\n",
        "\n",
        "output.shape"
      ]
    },
    {
      "cell_type": "code",
      "execution_count": null,
      "metadata": {
        "id": "EQAWiYReBTJS",
        "outputId": "b861426a-71ed-4f65-b5af-9570e0e31aef"
      },
      "outputs": [
        {
          "name": "stderr",
          "output_type": "stream",
          "text": [
            "c:\\Users\\PMYLS\\AppData\\Local\\Programs\\Python\\Python311\\Lib\\site-packages\\torch\\nn\\modules\\transformer.py:282: UserWarning: enable_nested_tensor is True, but self.use_nested_tensor is False because encoder_layer.self_attn.batch_first was not True(use batch_first for better inference performance)\n",
            "  warnings.warn(f\"enable_nested_tensor is True, but self.use_nested_tensor is False because {why_not_sparsity_fast_path}\")\n"
          ]
        },
        {
          "data": {
            "text/plain": [
              "torch.Size([5, 12, 100])"
            ]
          },
          "execution_count": 31,
          "metadata": {},
          "output_type": "execute_result"
        }
      ],
      "source": [
        "t = nn.TransformerEncoder(e, 5)\n",
        "output = t(output_2dcnn[:, :, :100])\n",
        "\n",
        "output.shape"
      ]
    },
    {
      "cell_type": "code",
      "execution_count": null,
      "metadata": {
        "id": "2wHMFjVFBTJT",
        "outputId": "4a2e9860-4f0f-4704-f46d-c75c5b5ebc8c"
      },
      "outputs": [
        {
          "name": "stdout",
          "output_type": "stream",
          "text": [
            "Updated number: 2\n",
            "Largest multiple: 2\n"
          ]
        }
      ],
      "source": [
        "def find_largest_multiple(num, start=2, end=20):\n",
        "    largest_multiple = None\n",
        "\n",
        "    # Iterate over the range in reverse order\n",
        "    for i in range(end, start - 1, -1):\n",
        "        if num % i == 0:\n",
        "            largest_multiple = i\n",
        "            return num, largest_multiple\n",
        "\n",
        "    # If no multiple found, keep subtracting 1 from the number until a multiple is found\n",
        "    if largest_multiple is None:\n",
        "        while True:\n",
        "            num -= 1\n",
        "            # Iterate over the range in reverse order\n",
        "            for i in range(end, start - 1, -1):\n",
        "                if num % i == 0:\n",
        "                    largest_multiple = i\n",
        "                    return num, largest_multiple\n",
        "\n",
        "# Test the function\n",
        "number = 47  # Example number\n",
        "result = find_largest_multiple(number)\n",
        "print(\"Updated number:\", result[1])\n",
        "print(\"Largest multiple:\", result[1])\n"
      ]
    },
    {
      "cell_type": "code",
      "execution_count": null,
      "metadata": {
        "id": "9jHOI2WbBTJT",
        "outputId": "31b8bcf5-e917-4daf-8de3-81eac4a42a5a"
      },
      "outputs": [
        {
          "name": "stdout",
          "output_type": "stream",
          "text": [
            "Output shape: torch.Size([5, 12, 100])\n"
          ]
        }
      ],
      "source": [
        "class TransformerEncoderModel(nn.Module):\n",
        "    def __init__(self, dim_feedforward, num_layers):\n",
        "        '''\n",
        "        d_model is the same as length of one eeg channel.\n",
        "        Since we don't know dmodel and hence nheads, at start, we'll initialize the layers later.\n",
        "        '''\n",
        "        super(TransformerEncoderModel, self).__init__()\n",
        "        self.dim_feedforward = dim_feedforward\n",
        "        self.num_layers = num_layers\n",
        "        self.INITIALIZED = False\n",
        "\n",
        "    def forward(self, x):\n",
        "        batch_size, chan, d_model = x.size()\n",
        "\n",
        "        if not self.INITIALIZED:\n",
        "            # n_heads must be a multiple of d_model\n",
        "            d_model, nhead = self.find_largest_multiple(d_model)\n",
        "            # If dmodel found is less than the original dmodel:\n",
        "            x = x[:, :, :d_model]\n",
        "            self.transformer_layer = nn.TransformerEncoderLayer(d_model=d_model, nhead=nhead, dim_feedforward=self.dim_feedforward, batch_first=True)\n",
        "            self.transformer_encoder = nn.TransformerEncoder(self.transformer_layer, num_layers=self.num_layers)\n",
        "            self.INITIALIZED = True\n",
        "\n",
        "        # Apply transformer encoder layers\n",
        "        output = self.transformer_encoder(x)\n",
        "        return output\n",
        "\n",
        "    def find_largest_multiple(self, num, start=2, end=20):\n",
        "        largest_multiple = None\n",
        "\n",
        "        # Iterate over the range in reverse order\n",
        "        for i in range(end, start - 1, -1):\n",
        "            if num % i == 0:\n",
        "                largest_multiple = i\n",
        "                return num, largest_multiple\n",
        "\n",
        "        # If no multiple found, keep subtracting 1 from the number until a multiple is found\n",
        "        if largest_multiple is None:\n",
        "            while True:\n",
        "                num -= 1\n",
        "                # Iterate over the range in reverse order\n",
        "                for i in range(end, start - 1, -1):\n",
        "                    if num % i == 0:\n",
        "                        largest_multiple = i\n",
        "                        return num, largest_multiple\n",
        "\n",
        "# Test the model with an input tensor\n",
        "model = TransformerEncoderModel(dim_feedforward=64, num_layers=5)\n",
        "output_tensor = model(output_2dcnn[:, :, :100])\n",
        "\n",
        "# Print the output shape\n",
        "print(\"Output shape:\", output_tensor.shape)"
      ]
    },
    {
      "cell_type": "markdown",
      "metadata": {
        "id": "px-HYxt6BTJU"
      },
      "source": [
        "### Classifier head"
      ]
    },
    {
      "cell_type": "code",
      "execution_count": null,
      "metadata": {
        "id": "5IGCaJ0CBTJU",
        "outputId": "e1645264-69de-40c3-9c55-b639dfdad30f"
      },
      "outputs": [
        {
          "name": "stdout",
          "output_type": "stream",
          "text": [
            "Output shape: torch.Size([5, 5])\n",
            "tensor([[0.5045, 0.5230, 0.5155, 0.5089, 0.5119],\n",
            "        [0.5083, 0.5257, 0.5253, 0.5009, 0.5225],\n",
            "        [0.5097, 0.5318, 0.5205, 0.5124, 0.5085],\n",
            "        [0.5007, 0.5269, 0.5204, 0.4921, 0.5084],\n",
            "        [0.5132, 0.5199, 0.5083, 0.5022, 0.5169]], grad_fn=<SigmoidBackward0>)\n"
          ]
        }
      ],
      "source": [
        "class ClassifierHead(nn.Module):\n",
        "    def __init__(self, hidden_size):\n",
        "        super(ClassifierHead, self).__init__()\n",
        "        self.INITIALIZED = False\n",
        "        self.hidden_size = hidden_size\n",
        "\n",
        "    def forward(self, x):\n",
        "        # Flatten the input tensor\n",
        "        x = x.view(x.size(0), -1)\n",
        "        batch_size, input_size = x.size()\n",
        "\n",
        "        if not self.INITIALIZED:\n",
        "            self.fc1 = nn.Linear(input_size, self.hidden_size)\n",
        "            self.fc2 = nn.Linear(self.hidden_size, self.hidden_size//2)\n",
        "            self.fc3 = nn.Linear(self.hidden_size//2, self.hidden_size//4)\n",
        "            self.fc4 = nn.Linear(self.hidden_size//4, 5)  # Output layer with 5 classes\n",
        "            self.INITIALIZED = True\n",
        "\n",
        "        # Apply fully connected layers with ReLU activation\n",
        "        x = F.relu(self.fc1(x))\n",
        "        x = F.relu(self.fc2(x))\n",
        "        x = F.relu(self.fc3(x))\n",
        "        # Output layer with sigmoid activation for classification\n",
        "        x = torch.sigmoid(self.fc4(x)) # Use BCE when doing this\n",
        "        return x\n",
        "\n",
        "# Test the network with an input tensor\n",
        "input_tensor = torch.randn(5, 12, 100)  # Example input tensor with shape [batch_size, channels, length]\n",
        "classifier = ClassifierHead(256)\n",
        "output_tensor = classifier(input_tensor)\n",
        "\n",
        "# Print the output shape\n",
        "print(\"Output shape:\", output_tensor.shape)\n",
        "print(output_tensor)"
      ]
    },
    {
      "cell_type": "markdown",
      "metadata": {
        "id": "aUE4HjsyBTJV"
      },
      "source": [
        "### Loss Function"
      ]
    },
    {
      "cell_type": "code",
      "execution_count": null,
      "metadata": {
        "id": "IGp6RwqUBTJV",
        "outputId": "a3214b79-199e-4015-d2a8-bb18f5d61813"
      },
      "outputs": [
        {
          "data": {
            "text/plain": [
              "0.6308955550193787"
            ]
          },
          "execution_count": 35,
          "metadata": {},
          "output_type": "execute_result"
        }
      ],
      "source": [
        "loss_fn = nn.BCELoss()\n",
        "\n",
        "predicted = torch.tensor([[0.2277, 0.9723, 0.2406, 0.9163, 0.2672],\n",
        "        [0.9333, 0.0791, 0.0257, 0.9169, 0.0727],])\n",
        "\n",
        "actual = torch.tensor([[1, 1, 1, 1, 0],\n",
        "       [0, 0, 0, 1, 0]]).float()\n",
        "\n",
        "loss_fn(predicted, actual).item()"
      ]
    },
    {
      "cell_type": "markdown",
      "metadata": {
        "id": "BmvmIrRVBTJW"
      },
      "source": [
        "### Classifier"
      ]
    },
    {
      "cell_type": "code",
      "execution_count": null,
      "metadata": {
        "id": "smVs7tikBTJX",
        "outputId": "7930d971-3b58-4d20-df78-082bf02c2f2f"
      },
      "outputs": [
        {
          "name": "stdout",
          "output_type": "stream",
          "text": [
            "Input size: torch.Size([5, 12, 1000])\n",
            "Prediction: torch.Size([5, 5])\n",
            "Loss: tensor(0.8787, grad_fn=<BinaryCrossEntropyWithLogitsBackward0>)\n"
          ]
        }
      ],
      "source": [
        "class EEGClassifier(nn.Module):\n",
        "    def __init__(self, kernel_size_1d_conv=128, num_layers_bi_gru=1, hidden_size_bi_gru=8,\n",
        "                 kernel_size_max_pool=12, stride_max_pool=None,\n",
        "                 kernel_width_2d_conv=4, kernel_height_2d_conv=64,\n",
        "                 dim_feedforward_transformer_encoder=64, num_layers_transformer_encoder=4,\n",
        "                 hidden_size_classifier_head=256):\n",
        "        super().__init__()\n",
        "        # Initialize layers' objects\n",
        "        self.temporal_feature_extractor_unidirectional = CNN1D(kernel_size=kernel_size_1d_conv)\n",
        "        self.temporal_feature_extractor_bidirectional = bigru_layer = BiGRU(features_expected=1,\n",
        "                                                                            hidden_size=hidden_size_bi_gru,\n",
        "                                                                            num_layers=num_layers_bi_gru,\n",
        "                                                                            bidirectional=True)\n",
        "        self.max_pool = MaxPool1DLast(kernel_size=kernel_size_max_pool, stride=stride_max_pool)\n",
        "        self.spectral_feature_extractor = CNN2D(kernel_width=kernel_width_2d_conv,\n",
        "                                                kernel_height=kernel_height_2d_conv)\n",
        "        self.transformer_encoder = TransformerEncoderModel(dim_feedforward=dim_feedforward_transformer_encoder,\n",
        "                                                           num_layers=num_layers_transformer_encoder)\n",
        "        self.classifier_head = ClassifierHead(hidden_size_classifier_head)\n",
        "        self.loss_fn = nn.BCEWithLogitsLoss()\n",
        "\n",
        "    def forward(self, x, y):\n",
        "        \"\"\"\n",
        "        x: [batch_size, in_channels, length]\n",
        "        prediction: [batch_size, 5]\n",
        "        \"\"\"\n",
        "        prediction = self.temporal_feature_extractor_unidirectional(x)\n",
        "        prediction = self.temporal_feature_extractor_bidirectional(prediction)\n",
        "        prediction = self.max_pool(prediction)\n",
        "        prediction = self.spectral_feature_extractor(prediction)\n",
        "        prediction = self.transformer_encoder(prediction)\n",
        "        prediction = self.classifier_head(prediction)\n",
        "\n",
        "        loss = None\n",
        "        if y is not None:\n",
        "            loss = self.loss_fn(prediction, y.float())\n",
        "            # loss = loss.item()\n",
        "\n",
        "        return prediction, loss\n",
        "\n",
        "classifier = EEGClassifier()\n",
        "\n",
        "prediction, loss = classifier(test_inp, test_out)\n",
        "print(\"Input size:\", test_inp.size())\n",
        "print(\"Prediction:\", prediction.size())\n",
        "print(\"Loss:\", loss)"
      ]
    },
    {
      "cell_type": "markdown",
      "metadata": {
        "id": "OeARSolmBTJY"
      },
      "source": [
        "### Data Loader"
      ]
    },
    {
      "cell_type": "code",
      "execution_count": null,
      "metadata": {
        "id": "V70DzAu0BTJZ"
      },
      "outputs": [],
      "source": [
        "# Create datasets\n",
        "train_dataset = TensorDataset(X_train_torch, y_train_torch)\n",
        "test_dataset = TensorDataset(X_test_torch, y_test_torch)\n",
        "\n",
        "# Create data loaders\n",
        "train_loader = DataLoader(train_dataset, batch_size=batch_size, shuffle=True)\n",
        "test_loader = DataLoader(test_dataset, batch_size=batch_size)"
      ]
    },
    {
      "cell_type": "markdown",
      "metadata": {
        "id": "brXPt8R_BTJZ"
      },
      "source": [
        "### Evaluator Function"
      ]
    },
    {
      "cell_type": "code",
      "execution_count": null,
      "metadata": {
        "id": "WKtSankTBTJa"
      },
      "outputs": [],
      "source": [
        "def evaluate_f1_score(model, data_loader, mlb):\n",
        "    y_true = []\n",
        "    y_pred = []\n",
        "\n",
        "    model.eval()  # Set the model to evaluation mode\n",
        "\n",
        "    # Wrap data_loader with tqdm for progress bar\n",
        "    data_loader_with_progress = tqdm(data_loader, desc=\"Evaluating\", unit=\"batch\")\n",
        "\n",
        "    with torch.no_grad():\n",
        "        for inputs, targets in data_loader_with_progress:\n",
        "            predictions, _ = model(inputs, targets)\n",
        "            y_true.extend(targets.cpu().numpy())\n",
        "            y_pred.extend(torch.sigmoid(predictions).cpu().numpy())\n",
        "\n",
        "    y_true = np.array(y_true)\n",
        "    y_pred = np.array(y_pred)\n",
        "\n",
        "    # Calculate average F1 score\n",
        "    average_f1_score = f1_score(y_true, np.round(y_pred), average='micro')\n",
        "\n",
        "    return average_f1_score"
      ]
    },
    {
      "cell_type": "code",
      "execution_count": null,
      "metadata": {
        "id": "LPEeR0nWBTJb"
      },
      "outputs": [],
      "source": [
        "def experiment(classifier, train_loader, test_loader, num_epochs=num_epochs,\n",
        "                learning_rate=learning_rate,\n",
        "                  encoder_learning_rate=encoder_learning_rate,\n",
        "                  filename=None,\n",
        "                  exp_number=None,\n",
        "                  log_filename=\"experiments/logs.txt\"):\n",
        "    # Define the parameters and their respective learning rates\n",
        "    parameters = [\n",
        "        {\"params\": classifier.temporal_feature_extractor_unidirectional.parameters()},\n",
        "        {\"params\": classifier.temporal_feature_extractor_bidirectional.parameters()},\n",
        "        {\"params\": classifier.max_pool.parameters()},\n",
        "        {\"params\": classifier.spectral_feature_extractor.parameters()},\n",
        "        {\"params\": classifier.classifier_head.parameters()},\n",
        "        {\"params\": classifier.loss_fn.parameters()}  # This is unnecessary, loss function parameters don't need optimization\n",
        "    ]\n",
        "\n",
        "    # You can specify a different learning rate for the transformer encoder\n",
        "    parameters.append({\"params\": classifier.transformer_encoder.parameters(), \"lr\": encoder_learning_rate})\n",
        "\n",
        "    # Define your optimizer\n",
        "    optimizer = optim.Adam(parameters, lr=learning_rate)\n",
        "\n",
        "    # loss\n",
        "    losses = []\n",
        "\n",
        "    # Experiment details\n",
        "    experiment_details = f\"Experiment Details:\\nExperiment Number: {exp_number}\\nLearning Rate: {learning_rate}\\nEncoder Learning Rate: {encoder_learning_rate}\\nNum Epochs: {num_epochs}\\n\\n\"\n",
        "    print(experiment_details)\n",
        "\n",
        "    try:\n",
        "        # Training loop with tqdm progress bar\n",
        "        for epoch in range(num_epochs):\n",
        "            classifier.train()  # Set the model to training mode\n",
        "            train_loss = 0.0\n",
        "\n",
        "            # Wrap train_loader with tqdm for progress bar\n",
        "            train_loader_with_progress = tqdm(train_loader, desc=f\"Epoch {epoch+1}/{num_epochs}\", unit=\"batch\")\n",
        "\n",
        "            for inputs, targets in train_loader_with_progress:\n",
        "                optimizer.zero_grad()  # Zero the gradients\n",
        "                predictions, loss = classifier(inputs, targets)\n",
        "                loss.backward(retain_graph=True)  # Backpropagation\n",
        "                optimizer.step()  # Update weights\n",
        "\n",
        "                train_loss += loss.item() * inputs.size(0)\n",
        "                losses.append(train_loss)\n",
        "\n",
        "                # Update tqdm progress bar with current loss\n",
        "                train_loader_with_progress.set_postfix({'loss': train_loss / len(train_loader)})  # Accessing length of train_loader\n",
        "\n",
        "            # No more epochs when there is no change in loss\n",
        "            train_loss /= len(train_loader.dataset)\n",
        "            if losses[-1] == losses[-2]:\n",
        "                break\n",
        "\n",
        "        # After training loop\n",
        "        # Evaluate the model on the test set\n",
        "        test_avg_f1_score = evaluate_f1_score(classifier, test_loader, mlb)\n",
        "        print(f\"Test F1: {test_avg_f1_score:.4f}\")\n",
        "\n",
        "        with open(log_filename, \"a\") as log_file:\n",
        "            log_file.write(experiment_details)\n",
        "            log_file.write(\"F1 Score:\" + str(test_avg_f1_score) + '\\n')  # Convert F1 score to string and add newline\n",
        "            log_file.write(\"Losses:\\n\")\n",
        "            for i, loss in enumerate(losses):\n",
        "                log_file.write(f\"Iteration {i+1}: {loss}\\n\")\n",
        "            log_file.write(\"\\n\")\n",
        "\n",
        "        # Plot the losses\n",
        "        plt.plot(losses)\n",
        "        plt.xlabel('Iterations')\n",
        "        plt.ylabel('Loss')\n",
        "        plt.title('Training Loss')\n",
        "        plt.savefig(f'{filename}.png')  # Save the plot\n",
        "        plt.show()\n",
        "\n",
        "    except KeyboardInterrupt:\n",
        "        print(\"Training stopped due to KeyboardInterrupt!\")\n"
      ]
    },
    {
      "cell_type": "code",
      "execution_count": 1,
      "metadata": {
        "id": "PBWASOkkBTJc",
        "outputId": "1a890856-4b9b-47b4-8f9d-e30321c27a3d"
      },
      "outputs": [],
      "source": [
        " # Define the hyperparameters\n",
        "hyperparameters_sets = [\n",
        "    # Encoder learning rate is comparatively higher\n",
        "    {\"num_epochs\": 15, \"learning_rate\": 0.001, \"encoder_learning_rate\": 0.1, \"filename\": \"experiments/experiment_1_encoder_learning_rate_0.1\", \"exp_number\": 1},\n",
        "    {\"num_epochs\": 15, \"learning_rate\": 0.001, \"encoder_learning_rate\": 0.6, \"filename\": \"experiments/experiment_2_encoder_learning_rate_0.6\", \"exp_number\": 2},\n",
        "    {\"num_epochs\": 15, \"learning_rate\": 0.001, \"encoder_learning_rate\": 3, \"filename\": \"experiments/experiment_3_encoder_learning_rate_3\", \"exp_number\": 3},\n",
        "    {\"num_epochs\": 15, \"learning_rate\": 0.001, \"encoder_learning_rate\": 9, \"filename\": \"experiments/experiment_4_encoder_learning_rate_9\", \"exp_number\": 4},\n",
        "    {\"num_epochs\": 15, \"learning_rate\": 0.01, \"encoder_learning_rate\": 0.1, \"filename\": \"experiments/experiment_5_encoder_learning_rate_0.1\", \"exp_number\": 5},\n",
        "    {\"num_epochs\": 15, \"learning_rate\": 0.01, \"encoder_learning_rate\": 0.6, \"filename\": \"experiments/experiment_6_encoder_learning_rate_0.6\", \"exp_number\": 6},\n",
        "    {\"num_epochs\": 15, \"learning_rate\": 0.01, \"encoder_learning_rate\": 3, \"filename\": \"experiments/experiment_7_encoder_learning_rate_3\", \"exp_number\": 7},\n",
        "    {\"num_epochs\": 15, \"learning_rate\": 0.01, \"encoder_learning_rate\": 9, \"filename\": \"experiments/experiment_8_encoder_learning_rate_9\", \"exp_number\": 8},\n",
        "    {\"num_epochs\": 15, \"learning_rate\": 0.1, \"encoder_learning_rate\": 0.1, \"filename\": \"experiments/experiment_9_encoder_learning_rate_0.1\", \"exp_number\": 9},\n",
        "    {\"num_epochs\": 15, \"learning_rate\": 0.1, \"encoder_learning_rate\": 0.6, \"filename\": \"experiments/experiment_10_encoder_learning_rate_0.6\", \"exp_number\": 10},\n",
        "    {\"num_epochs\": 15, \"learning_rate\": 0.1, \"encoder_learning_rate\": 3, \"filename\": \"experiments/experiment_11_encoder_learning_rate_3\", \"exp_number\": 11},\n",
        "    {\"num_epochs\": 15, \"learning_rate\": 0.1, \"encoder_learning_rate\": 9, \"filename\": \"experiments/experiment_12_encoder_learning_rate_9\", \"exp_number\": 12},\n",
        "\n",
        "    # DNN learning rate is comparatively higher\n",
        "    {\"num_epochs\": 15, \"encoder_learning_rate\": 0.001, \"learning_rate\": 0.1, \"filename\": \"experiments/experiment_13_dnn_learning_rate_0.1\", \"exp_number\": 13},\n",
        "    {\"num_epochs\": 15, \"encoder_learning_rate\": 0.001, \"learning_rate\": 0.6, \"filename\": \"experiments/experiment_14_dnn_learning_rate_0.6\", \"exp_number\": 14},\n",
        "    {\"num_epochs\": 15, \"encoder_learning_rate\": 0.001, \"learning_rate\": 3, \"filename\": \"experiments/experiment_15_dnn_learning_rate_3\", \"exp_number\": 15},\n",
        "    {\"num_epochs\": 15, \"encoder_learning_rate\": 0.001, \"learning_rate\": 9, \"filename\": \"experiments/experiment_16_dnn_learning_rate_9\", \"exp_number\": 16},\n",
        "    {\"num_epochs\": 15, \"encoder_learning_rate\": 0.01, \"learning_rate\": 0.1, \"filename\": \"experiments/experiment_17_dnn_learning_rate_0.1\", \"exp_number\": 17},\n",
        "    {\"num_epochs\": 15, \"encoder_learning_rate\": 0.01, \"learning_rate\": 0.6, \"filename\": \"experiments/experiment_18_dnn_learning_rate_0.6\", \"exp_number\": 18},\n",
        "    {\"num_epochs\": 15, \"encoder_learning_rate\": 0.01, \"learning_rate\": 3, \"filename\": \"experiments/experiment_19_dnn_learning_rate_3\", \"exp_number\": 19},\n",
        "    {\"num_epochs\": 15, \"encoder_learning_rate\": 0.01, \"learning_rate\": 9, \"filename\": \"experiments/experiment_20_dnn_learning_rate_9\", \"exp_number\": 20},\n",
        "    {\"num_epochs\": 15, \"encoder_learning_rate\": 0.1, \"learning_rate\": 0.1, \"filename\": \"experiments/experiment_21_dnn_learning_rate_0.1\", \"exp_number\": 21},\n",
        "    {\"num_epochs\": 15, \"encoder_learning_rate\": 0.1, \"learning_rate\": 0.6, \"filename\": \"experiments/experiment_22_dnn_learning_rate_0.6\", \"exp_number\": 22},\n",
        "    {\"num_epochs\": 15, \"encoder_learning_rate\": 0.1, \"learning_rate\": 3, \"filename\": \"experiments/experiment_23_dnn_learning_rate_3\", \"exp_number\": 23},\n",
        "    {\"num_epochs\": 15, \"encoder_learning_rate\": 0.1, \"learning_rate\": 9, \"filename\": \"experiments/experiment_24_dnn_learning_rate_9\", \"exp_number\": 24},\n",
        "\n",
        "    # Equal learning rates...\n",
        "    {\"num_epochs\": 15, \"encoder_learning_rate\": 0.1, \"learning_rate\": 0.1, \"filename\": \"experiments/experiment_25_equal_learning_rates_0.1\", \"exp_number\": 25},\n",
        "    {\"num_epochs\": 15, \"encoder_learning_rate\": 0.6, \"learning_rate\": 0.6, \"filename\": \"experiments/experiment_26_equal_learning_rates_0.6\", \"exp_number\": 26},\n",
        "    {\"num_epochs\": 15, \"encoder_learning_rate\": 3, \"learning_rate\": 3, \"filename\": \"experiments/experiment_27_equal_learning_rates_3\", \"exp_number\": 27},\n",
        "    {\"num_epochs\": 15, \"encoder_learning_rate\": 9, \"learning_rate\": 9, \"filename\": \"experiments/experiment_28_equal_learning_rates_9\", \"exp_number\": 28},\n",
        "    {\"num_epochs\": 15, \"encoder_learning_rate\": 0.0001, \"learning_rate\": 0.0001, \"filename\": \"experiments/experiment_29_equal_learning_rates_0.0001\", \"exp_number\": 29},\n",
        "    {\"num_epochs\": 15, \"encoder_learning_rate\": 0.001, \"learning_rate\": 0.001, \"filename\": \"experiments/experiment_30_equal_learning_rates_0.001\", \"exp_number\": 30},\n",
        "    {\"num_epochs\": 15, \"encoder_learning_rate\": 0.01, \"learning_rate\": 0.01, \"filename\": \"experiments/experiment_31_equal_learning_rates_0.01\", \"exp_number\": 31},\n",
        "    {\"num_epochs\": 15, \"encoder_learning_rate\": 0.1, \"learning_rate\": 0.1, \"filename\": \"experiments/experiment_32_equal_learning_rates_0.1\", \"exp_number\": 32}\n",
        "]\n",
        "\n",
        "try:\n",
        "    # Iterate over each set of hyperparameters and run the experiment\n",
        "    for params in hyperparameters_sets:\n",
        "        print(\"=========================================================================================================\")\n",
        "        print(f\"Running Experiment {params['exp_number']}/{len(hyperparameters_sets)}:\")\n",
        "        experiment(classifier, train_loader, test_loader, **params)\n",
        "        print(\"Experiment completed.\")\n",
        "except KeyboardInterrupt:\n",
        "    print(\"Experiments stopped due to Keyboard Interrupt...\")\n"
      ]
    },
    {
      "cell_type": "markdown",
      "metadata": {
        "id": "vceDQqg9BTJf"
      },
      "source": [
        "### Evaluation"
      ]
    },
    {
      "cell_type": "markdown",
      "metadata": {
        "id": "SwWNF-w-BTJg"
      },
      "source": [
        "#### Looking into label distribution to observe classes with less data"
      ]
    },
    {
      "cell_type": "code",
      "execution_count": null,
      "metadata": {
        "id": "qGAtK3ZdBTJg",
        "outputId": "117689e8-83ed-4ce0-f9b6-0a3edc915920"
      },
      "outputs": [
        {
          "data": {
            "image/png": "[encoded data removed]",
            "text/plain": [
              "<Figure size 1000x600 with 1 Axes>"
            ]
          },
          "metadata": {},
          "output_type": "display_data"
        }
      ],
      "source": [
        "# Compute value counts\n",
        "value_counts = y_train.value_counts()\n",
        "\n",
        "# Plot histogram\n",
        "plt.figure(figsize=(10, 6))\n",
        "value_counts.plot(kind='bar')\n",
        "plt.xlabel('Labels')\n",
        "plt.ylabel('Frequency')\n",
        "plt.title('Histogram of Unique Value Counts')\n",
        "plt.xticks(rotation=45)  # Rotate x-axis labels for better readability\n",
        "plt.show()"
      ]
    },
    {
      "cell_type": "code",
      "execution_count": null,
      "metadata": {
        "id": "W2ES8ygFBTJh",
        "outputId": "26d184ca-30f9-4533-b9e3-cb48196fcceb"
      },
      "outputs": [
        {
          "name": "stderr",
          "output_type": "stream",
          "text": [
            "Evaluating:   0%|          | 0/14 [00:00<?, ?batch/s]"
          ]
        },
        {
          "name": "stderr",
          "output_type": "stream",
          "text": [
            "Evaluating: 100%|██████████| 14/14 [00:12<00:00,  1.10batch/s]\n"
          ]
        },
        {
          "name": "stdout",
          "output_type": "stream",
          "text": [
            "--------------------\n",
            "F1 Score: 0.3997795333455815\n"
          ]
        },
        {
          "name": "stderr",
          "output_type": "stream",
          "text": [
            "Evaluating: 100%|██████████| 3/3 [00:02<00:00,  1.40batch/s]"
          ]
        },
        {
          "name": "stdout",
          "output_type": "stream",
          "text": [
            "--------------------\n",
            "F1 Score: 0.39552238805970147\n"
          ]
        },
        {
          "name": "stderr",
          "output_type": "stream",
          "text": [
            "\n"
          ]
        }
      ],
      "source": [
        "try:\n",
        "    train_avg_f1_score = evaluate_f1_score(classifier, train_loader, mlb)\n",
        "    test_avg_f1_score = evaluate_f1_score(classifier, test_loader, mlb)\n",
        "except KeyboardInterrupt:\n",
        "    print(\"Evaluation stopped due to KeyboardInterrupt!\")\n"
      ]
    },
    {
      "cell_type": "markdown",
      "metadata": {
        "id": "jahSqk2wBTJh"
      },
      "source": [
        "### Printing hamming loss"
      ]
    },
    {
      "cell_type": "code",
      "execution_count": null,
      "metadata": {
        "id": "RYcPNgTTBTJh",
        "outputId": "b3708c4b-3416-47b9-da54-62f8d8082a5b"
      },
      "outputs": [
        {
          "name": "stderr",
          "output_type": "stream",
          "text": [
            "Evaluating: 100%|██████████| 14/14 [00:11<00:00,  1.22batch/s]\n"
          ]
        },
        {
          "name": "stdout",
          "output_type": "stream",
          "text": [
            "0.3940298507462687\n"
          ]
        },
        {
          "name": "stderr",
          "output_type": "stream",
          "text": [
            "Evaluating: 100%|██████████| 3/3 [00:02<00:00,  1.42batch/s]"
          ]
        },
        {
          "name": "stdout",
          "output_type": "stream",
          "text": [
            "0.4077519379844961\n"
          ]
        },
        {
          "name": "stderr",
          "output_type": "stream",
          "text": [
            "\n"
          ]
        }
      ],
      "source": [
        "from sklearn.metrics import hamming_loss\n",
        "\n",
        "def evaluate_hamming_loss(model, data_loader):\n",
        "    y_true = []\n",
        "    y_pred = []\n",
        "\n",
        "    model.eval()  # Set the model to evaluation mode\n",
        "\n",
        "    # Wrap data_loader with tqdm for progress bar\n",
        "    data_loader_with_progress = tqdm(data_loader, desc=\"Evaluating\", unit=\"batch\")\n",
        "\n",
        "    with torch.no_grad():\n",
        "        for inputs, targets in data_loader_with_progress:\n",
        "            predictions, _ = model(inputs, targets)\n",
        "            y_true.extend(targets.cpu().numpy())\n",
        "            y_pred.extend(torch.sigmoid(predictions).cpu().numpy())\n",
        "\n",
        "    y_true = np.array(y_true)\n",
        "    y_pred = np.array(y_pred)\n",
        "\n",
        "    # Calculate Hamming loss\n",
        "    hl = hamming_loss(y_true, np.round(y_pred))\n",
        "    print(hl)\n",
        "\n",
        "    return hl\n",
        "\n",
        "try:\n",
        "    train_hamming_loss = evaluate_hamming_loss(classifier, train_loader)\n",
        "    test_hamming_loss = evaluate_hamming_loss(classifier, test_loader)\n",
        "except KeyboardInterrupt:\n",
        "    print(\"Evaluation stopped due to KeyboardInterrupt!\")\n"
      ]
    }
  ],
  "metadata": {
    "colab": {
      "provenance": []
    },
    "kernelspec": {
      "display_name": "Python 3",
      "language": "python",
      "name": "python3"
    },
    "language_info": {
      "codemirror_mode": {
        "name": "ipython",
        "version": 3
      },
      "file_extension": ".py",
      "mimetype": "text/x-python",
      "name": "python",
      "nbconvert_exporter": "python",
      "pygments_lexer": "ipython3",
      "version": "3.11.5"
    }
  },
  "nbformat": 4,
  "nbformat_minor": 0
}
